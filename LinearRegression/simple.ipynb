{
 "cells": [
  {
   "cell_type": "markdown",
   "id": "1ee52876",
   "metadata": {},
   "source": [
    "# Linear Regression from Scratch\n",
    "\n",
    "![Linear Regression](https://upload.wikimedia.org/wikipedia/commons/3/3a/Linear_regression.svg)\n",
    "\n",
    "This notebook implements linear regression from scratch using gradient descent algorithm. We'll build a simple linear regression model to predict scores based on study hours.\n",
    "\n",
    "## Overview\n",
    "\n",
    "- Load and visualize the data\n",
    "- Implement the loss function (Mean Squared Error)\n",
    "- Implement gradient descent optimization\n",
    "- Train the model and visualize results\n",
    "- Make predictions"
   ]
  },
  {
   "cell_type": "markdown",
   "id": "9e04400e",
   "metadata": {},
   "source": [
    "## Import Required Libraries\n",
    "\n",
    "We'll import the necessary libraries:\n",
    "\n",
    "- `pandas` for data manipulation and analysis\n",
    "- `matplotlib.pyplot` for data visualization\n"
   ]
  },
  {
   "cell_type": "code",
   "execution_count": 12,
   "id": "c923994b",
   "metadata": {},
   "outputs": [],
   "source": [
    "import pandas as pd\n",
    "import matplotlib.pyplot as plt"
   ]
  },
  {
   "cell_type": "markdown",
   "id": "a8e36eed",
   "metadata": {},
   "source": [
    "## Load the Dataset\n",
    "\n",
    "Load the score dataset from a CSV file. This dataset contains information about study hours and corresponding scores.\n",
    "\n",
    "Source: [Scores Dataset](https://www.kaggle.com/datasets/himanshunakrani/student-study-hours)"
   ]
  },
  {
   "cell_type": "code",
   "execution_count": 13,
   "id": "c37d4c55",
   "metadata": {},
   "outputs": [],
   "source": [
    "data = pd.read_csv(\"data/score.csv\")"
   ]
  },
  {
   "cell_type": "markdown",
   "id": "c3a8dc56",
   "metadata": {},
   "source": [
    "## Data Preprocessing\n",
    "\n",
    "Restructure the data into a more convenient format with:\n",
    "\n",
    "- `x`: Independent variable (Hours studied)\n",
    "- `y`: Dependent variable (Scores achieved)\n"
   ]
  },
  {
   "cell_type": "code",
   "execution_count": 14,
   "id": "48be6613",
   "metadata": {},
   "outputs": [],
   "source": [
    "data = pd.DataFrame({\"x\": data.Hours, \"y\": data.Scores})"
   ]
  },
  {
   "cell_type": "markdown",
   "id": "642872d9",
   "metadata": {},
   "source": [
    "## Explore the Data\n",
    "\n",
    "Let's examine our dataset to understand the structure and see the relationship between study hours and scores.\n"
   ]
  },
  {
   "cell_type": "code",
   "execution_count": 15,
   "id": "f213a137",
   "metadata": {},
   "outputs": [
    {
     "data": {
      "text/html": [
       "<div>\n",
       "<style scoped>\n",
       "    .dataframe tbody tr th:only-of-type {\n",
       "        vertical-align: middle;\n",
       "    }\n",
       "\n",
       "    .dataframe tbody tr th {\n",
       "        vertical-align: top;\n",
       "    }\n",
       "\n",
       "    .dataframe thead th {\n",
       "        text-align: right;\n",
       "    }\n",
       "</style>\n",
       "<table border=\"1\" class=\"dataframe\">\n",
       "  <thead>\n",
       "    <tr style=\"text-align: right;\">\n",
       "      <th></th>\n",
       "      <th>x</th>\n",
       "      <th>y</th>\n",
       "    </tr>\n",
       "  </thead>\n",
       "  <tbody>\n",
       "    <tr>\n",
       "      <th>0</th>\n",
       "      <td>2.5</td>\n",
       "      <td>21</td>\n",
       "    </tr>\n",
       "    <tr>\n",
       "      <th>1</th>\n",
       "      <td>5.1</td>\n",
       "      <td>47</td>\n",
       "    </tr>\n",
       "    <tr>\n",
       "      <th>2</th>\n",
       "      <td>3.2</td>\n",
       "      <td>27</td>\n",
       "    </tr>\n",
       "    <tr>\n",
       "      <th>3</th>\n",
       "      <td>8.5</td>\n",
       "      <td>75</td>\n",
       "    </tr>\n",
       "    <tr>\n",
       "      <th>4</th>\n",
       "      <td>3.5</td>\n",
       "      <td>30</td>\n",
       "    </tr>\n",
       "  </tbody>\n",
       "</table>\n",
       "</div>"
      ],
      "text/plain": [
       "     x   y\n",
       "0  2.5  21\n",
       "1  5.1  47\n",
       "2  3.2  27\n",
       "3  8.5  75\n",
       "4  3.5  30"
      ]
     },
     "execution_count": 15,
     "metadata": {},
     "output_type": "execute_result"
    }
   ],
   "source": [
    "data.head()"
   ]
  },
  {
   "cell_type": "code",
   "execution_count": 16,
   "id": "a4caccb1",
   "metadata": {},
   "outputs": [
    {
     "data": {
      "text/plain": [
       "50"
      ]
     },
     "execution_count": 16,
     "metadata": {},
     "output_type": "execute_result"
    }
   ],
   "source": [
    "data.size"
   ]
  },
  {
   "cell_type": "markdown",
   "id": "dd11ecf7",
   "metadata": {},
   "source": [
    "## Visualize the Data\n",
    "\n",
    "Create a scatter plot to visualize the relationship between study hours (x) and scores (y). This helps us understand if there's a linear relationship in the data.\n"
   ]
  },
  {
   "cell_type": "code",
   "execution_count": 17,
   "id": "fb1ad56e",
   "metadata": {},
   "outputs": [
    {
     "data": {
      "image/png": "[encoded data removed]",
      "text/plain": [
       "<Figure size 640x480 with 1 Axes>"
      ]
     },
     "metadata": {},
     "output_type": "display_data"
    }
   ],
   "source": [
    "plt.scatter(data[\"x\"], data[\"y\"]);"
   ]
  },
  {
   "cell_type": "markdown",
   "id": "60a5a956",
   "metadata": {},
   "source": [
    "## Define the Loss Function\n",
    "\n",
    "Implement the Mean Squared Error (MSE) loss function. This function calculates how far our predictions are from the actual values.\n",
    "\n",
    "The formula is: MSE = (1/n) × Σ(y_actual - y_predicted)²\n",
    "\n",
    "Where:\n",
    "\n",
    "- `m` is the slope of the line\n",
    "- `b` is the y-intercept\n",
    "- The predicted value is `m*x + b`\n"
   ]
  },
  {
   "cell_type": "code",
   "execution_count": 18,
   "id": "4b326c14",
   "metadata": {},
   "outputs": [],
   "source": [
    "def loss_function(m, b, points):\n",
    "    total_error = 0\n",
    "    for i in range(len(points)):\n",
    "        x = points.iloc[i][\"x\"]\n",
    "        y = points.iloc[i][\"y\"]\n",
    "        total_error += (y - (m * x + b)) ** 2\n",
    "    return total_error / float(len(points))"
   ]
  },
  {
   "cell_type": "markdown",
   "id": "a7f7d01a",
   "metadata": {},
   "source": [
    "## Implement Gradient Descent\n",
    "\n",
    "Gradient descent is the optimization algorithm that helps us find the best values for slope (m) and intercept (b).\n",
    "\n",
    "The algorithm calculates:\n",
    "\n",
    "- **m_gradient**: The partial derivative of the loss function with respect to slope (m)\n",
    "- **b_gradient**: The partial derivative of the loss function with respect to intercept (b)\n",
    "\n",
    "Then updates the parameters:\n",
    "\n",
    "- **m_new** = m_current - (learning_rate × m_gradient)\n",
    "- **b_new** = b_current - (learning_rate × b_gradient)\n"
   ]
  },
  {
   "cell_type": "code",
   "execution_count": 19,
   "id": "5398e511",
   "metadata": {},
   "outputs": [],
   "source": [
    "def gradient_descent(m_now, b_now, points, lr):\n",
    "    m_gradient = 0\n",
    "    b_gradient = 0\n",
    "    n = len(points)\n",
    "    for i in range(n):\n",
    "        x = points.iloc[i][\"x\"]\n",
    "        y = points.iloc[i][\"y\"]\n",
    "        m_gradient += -(2 / n) * x * (y - (m_now * x + b_now))\n",
    "        b_gradient += -(2 / n) * (y - (m_now * x + b_now))\n",
    "    m_new = m_now - (lr * m_gradient)\n",
    "    b_new = b_now - (lr * b_gradient)\n",
    "    return m_new, b_new"
   ]
  },
  {
   "cell_type": "markdown",
   "id": "594b11c5",
   "metadata": {},
   "source": [
    "## Initialize Parameters\n",
    "\n",
    "Set up the initial parameters for our linear regression model:\n",
    "\n",
    "- **m**: Slope (initially 0)\n",
    "- **b**: Y-intercept (initially 0)\n",
    "- **lr**: Learning rate (0.0001) - controls how big steps we take during optimization\n"
   ]
  },
  {
   "cell_type": "code",
   "execution_count": 20,
   "id": "569b47d8",
   "metadata": {},
   "outputs": [],
   "source": [
    "m = 0\n",
    "b = 0\n",
    "lr = 0.0001"
   ]
  },
  {
   "cell_type": "markdown",
   "id": "374feba3",
   "metadata": {},
   "source": [
    "## Train the Model\n",
    "\n",
    "Now we'll train our linear regression model using gradient descent:\n",
    "\n",
    "1. **Run for 1000 epochs** (iterations)\n",
    "2. **Monitor progress** by printing the loss every 100 epochs\n",
    "3. **Update parameters** (m and b) using gradient descent\n",
    "4. **Visualize results** by plotting the data points and the fitted line\n",
    "\n",
    "The red line represents our learned linear regression model.\n"
   ]
  },
  {
   "cell_type": "code",
   "execution_count": 21,
   "id": "537e6139",
   "metadata": {},
   "outputs": [
    {
     "name": "stdout",
     "output_type": "stream",
     "text": [
      "Epoch 0: Loss = 3264.04\n",
      "Epoch 100: Loss = 922.9847912910558\n",
      "Epoch 100: Loss = 922.9847912910558\n",
      "Epoch 200: Loss = 276.0644547372399\n",
      "Epoch 200: Loss = 276.0644547372399\n",
      "Epoch 300: Loss = 97.29578876833197\n",
      "Epoch 300: Loss = 97.29578876833197\n",
      "Epoch 400: Loss = 47.894623554624815\n",
      "Epoch 400: Loss = 47.894623554624815\n",
      "Epoch 500: Loss = 34.242454680637124\n",
      "Epoch 500: Loss = 34.242454680637124\n",
      "Epoch 600: Loss = 30.469052185510176\n",
      "Epoch 600: Loss = 30.469052185510176\n",
      "Epoch 700: Loss = 29.425521675044656\n",
      "Epoch 700: Loss = 29.425521675044656\n",
      "Epoch 800: Loss = 29.136361114306325\n",
      "Epoch 800: Loss = 29.136361114306325\n",
      "Epoch 900: Loss = 29.05566671536746\n",
      "Epoch 900: Loss = 29.05566671536746\n",
      "m: 9.896964110671043, b: 1.6314708810783125\n",
      "m: 9.896964110671043, b: 1.6314708810783125\n"
     ]
    },
    {
     "data": {
      "image/png": "[encoded data removed]",
      "text/plain": [
       "<Figure size 640x480 with 1 Axes>"
      ]
     },
     "metadata": {},
     "output_type": "display_data"
    }
   ],
   "source": [
    "epochs = 1000\n",
    "for i in range(epochs):\n",
    "    if i % 100 == 0:\n",
    "        print(f\"Epoch {i}: Loss = {loss_function(m, b, data)}\")\n",
    "    m, b = gradient_descent(m, b, data, lr)\n",
    "\n",
    "print(f\"m: {m}, b: {b}\")\n",
    "plt.scatter(data[\"x\"], data[\"y\"])\n",
    "plt.plot(data[\"x\"], m * data[\"x\"] + b, color=\"red\")\n",
    "plt.xlabel(\"Hours\")\n",
    "plt.ylabel(\"Scores\")\n",
    "plt.title(\"Linear Regression Fit\");"
   ]
  },
  {
   "cell_type": "markdown",
   "id": "da8b4f5e",
   "metadata": {},
   "source": [
    "## Make Predictions\n",
    "\n",
    "Now that our model is trained, we can use it to make predictions. Let's predict the score for a student who studies for 5 hours.\n",
    "\n",
    "The prediction formula is: **y = m × x + b**\n",
    "\n",
    "Where:\n",
    "\n",
    "- **x** is the input (study hours)\n",
    "- **m** is the learned slope\n",
    "- **b** is the learned intercept\n",
    "- **y** is the predicted score\n"
   ]
  },
  {
   "cell_type": "code",
   "execution_count": 22,
   "id": "d31efac4",
   "metadata": {},
   "outputs": [
    {
     "name": "stdout",
     "output_type": "stream",
     "text": [
      "Predicted value for x=5: y=51.12\n"
     ]
    }
   ],
   "source": [
    "predict_x = 5\n",
    "predict_y = m * predict_x + b\n",
    "print(f\"Predicted value for x={predict_x}: y={predict_y:.2f}\")"
   ]
  }
 ],
 "metadata": {
  "kernelspec": {
   "display_name": "Python 3",
   "language": "python",
   "name": "python3"
  },
  "language_info": {
   "codemirror_mode": {
    "name": "ipython",
    "version": 3
   },
   "file_extension": ".py",
   "mimetype": "text/x-python",
   "name": "python",
   "nbconvert_exporter": "python",
   "pygments_lexer": "ipython3",
   "version": "3.11.0"
  }
 },
 "nbformat": 4,
 "nbformat_minor": 5
}
