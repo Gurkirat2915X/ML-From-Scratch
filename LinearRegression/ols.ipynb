{
 "cells": [
  {
   "cell_type": "markdown",
   "id": "dc8625e3",
   "metadata": {},
   "source": [
    "# Linear Regression Using Ordinary Least Squares (OLS)\n",
    "\n",
    "![OLS Linear Regression](https://upload.wikimedia.org/wikipedia/commons/thumb/b/be/Normdist_regression.png/400px-Normdist_regression.png)\n",
    "\n",
    "This notebook implements linear regression using the **Ordinary Least Squares (OLS)** analytical solution, which is different from the gradient descent approach. OLS provides a direct mathematical solution to find the optimal parameters.\n",
    "\n",
    "## Overview\n",
    "- Load and preprocess the data\n",
    "- Implement OLS analytical solution\n",
    "- Implement evaluation metrics (MSE, MAE, R²)\n",
    "- Train the model and visualize results\n",
    "- Compare with gradient descent approach\n",
    "\n",
    "## Mathematical Foundation\n",
    "\n",
    "### OLS vs Gradient Descent:\n",
    "- **OLS**: Direct analytical solution using calculus\n",
    "- **Gradient Descent**: Iterative optimization approach\n",
    "\n",
    "### OLS Formulas:\n",
    "The optimal slope and intercept can be calculated directly:\n",
    "\n",
    "**Slope (m)**: m = Σ[(x - x̄)(y - ȳ)] / Σ[(x - x̄)²]\n",
    "\n",
    "**Intercept (c)**: c = ȳ - m × x̄\n",
    "\n",
    "Where x̄ and ȳ are the means of x and y respectively."
   ]
  },
  {
   "cell_type": "markdown",
   "id": "d38b2b05",
   "metadata": {},
   "source": [
    "## Import Required Libraries\n",
    "\n",
    "We'll import the necessary libraries for data manipulation and visualization:\n",
    "- **pandas**: For data loading and DataFrame operations\n",
    "- **matplotlib.pyplot**: For creating scatter plots and visualizations"
   ]
  },
  {
   "cell_type": "code",
   "execution_count": 2,
   "id": "4c1d4a48",
   "metadata": {},
   "outputs": [],
   "source": [
    "import pandas as pd\n",
    "import matplotlib.pyplot as plt"
   ]
  },
  {
   "cell_type": "markdown",
   "id": "9aedfda8",
   "metadata": {},
   "source": [
    "## Load the Dataset\n",
    "\n",
    "Load the same score dataset used in the gradient descent approach. This allows us to compare the results between OLS and gradient descent methods."
   ]
  },
  {
   "cell_type": "code",
   "execution_count": 3,
   "id": "0b0866b1",
   "metadata": {},
   "outputs": [
    {
     "data": {
      "text/html": [
       "<div>\n",
       "<style scoped>\n",
       "    .dataframe tbody tr th:only-of-type {\n",
       "        vertical-align: middle;\n",
       "    }\n",
       "\n",
       "    .dataframe tbody tr th {\n",
       "        vertical-align: top;\n",
       "    }\n",
       "\n",
       "    .dataframe thead th {\n",
       "        text-align: right;\n",
       "    }\n",
       "</style>\n",
       "<table border=\"1\" class=\"dataframe\">\n",
       "  <thead>\n",
       "    <tr style=\"text-align: right;\">\n",
       "      <th></th>\n",
       "      <th>Hours</th>\n",
       "      <th>Scores</th>\n",
       "    </tr>\n",
       "  </thead>\n",
       "  <tbody>\n",
       "    <tr>\n",
       "      <th>0</th>\n",
       "      <td>2.5</td>\n",
       "      <td>21</td>\n",
       "    </tr>\n",
       "    <tr>\n",
       "      <th>1</th>\n",
       "      <td>5.1</td>\n",
       "      <td>47</td>\n",
       "    </tr>\n",
       "    <tr>\n",
       "      <th>2</th>\n",
       "      <td>3.2</td>\n",
       "      <td>27</td>\n",
       "    </tr>\n",
       "    <tr>\n",
       "      <th>3</th>\n",
       "      <td>8.5</td>\n",
       "      <td>75</td>\n",
       "    </tr>\n",
       "    <tr>\n",
       "      <th>4</th>\n",
       "      <td>3.5</td>\n",
       "      <td>30</td>\n",
       "    </tr>\n",
       "  </tbody>\n",
       "</table>\n",
       "</div>"
      ],
      "text/plain": [
       "   Hours  Scores\n",
       "0    2.5      21\n",
       "1    5.1      47\n",
       "2    3.2      27\n",
       "3    8.5      75\n",
       "4    3.5      30"
      ]
     },
     "execution_count": 3,
     "metadata": {},
     "output_type": "execute_result"
    }
   ],
   "source": [
    "data = pd.read_csv(\"data/score.csv\")\n",
    "data.head()"
   ]
  },
  {
   "cell_type": "markdown",
   "id": "9af048ec",
   "metadata": {},
   "source": [
    "## Data Preprocessing\n",
    "\n",
    "Restructure the data into a convenient format:\n",
    "- **x**: Hours studied (independent variable)\n",
    "- **y**: Scores achieved (dependent variable)"
   ]
  },
  {
   "cell_type": "code",
   "execution_count": 4,
   "id": "646e4621",
   "metadata": {},
   "outputs": [
    {
     "data": {
      "text/html": [
       "<div>\n",
       "<style scoped>\n",
       "    .dataframe tbody tr th:only-of-type {\n",
       "        vertical-align: middle;\n",
       "    }\n",
       "\n",
       "    .dataframe tbody tr th {\n",
       "        vertical-align: top;\n",
       "    }\n",
       "\n",
       "    .dataframe thead th {\n",
       "        text-align: right;\n",
       "    }\n",
       "</style>\n",
       "<table border=\"1\" class=\"dataframe\">\n",
       "  <thead>\n",
       "    <tr style=\"text-align: right;\">\n",
       "      <th></th>\n",
       "      <th>x</th>\n",
       "      <th>y</th>\n",
       "    </tr>\n",
       "  </thead>\n",
       "  <tbody>\n",
       "    <tr>\n",
       "      <th>0</th>\n",
       "      <td>2.5</td>\n",
       "      <td>21</td>\n",
       "    </tr>\n",
       "    <tr>\n",
       "      <th>1</th>\n",
       "      <td>5.1</td>\n",
       "      <td>47</td>\n",
       "    </tr>\n",
       "    <tr>\n",
       "      <th>2</th>\n",
       "      <td>3.2</td>\n",
       "      <td>27</td>\n",
       "    </tr>\n",
       "    <tr>\n",
       "      <th>3</th>\n",
       "      <td>8.5</td>\n",
       "      <td>75</td>\n",
       "    </tr>\n",
       "    <tr>\n",
       "      <th>4</th>\n",
       "      <td>3.5</td>\n",
       "      <td>30</td>\n",
       "    </tr>\n",
       "  </tbody>\n",
       "</table>\n",
       "</div>"
      ],
      "text/plain": [
       "     x   y\n",
       "0  2.5  21\n",
       "1  5.1  47\n",
       "2  3.2  27\n",
       "3  8.5  75\n",
       "4  3.5  30"
      ]
     },
     "execution_count": 4,
     "metadata": {},
     "output_type": "execute_result"
    }
   ],
   "source": [
    "data = pd.DataFrame({\"x\": data[\"Hours\"], \"y\": data[\"Scores\"]})\n",
    "\n",
    "data.head()"
   ]
  },
  {
   "cell_type": "markdown",
   "id": "62196989",
   "metadata": {},
   "source": [
    "## Ordinary Least Squares (OLS) Implementation\n",
    "\n",
    "This is the **key difference** from the gradient descent approach. Instead of iteratively optimizing parameters, OLS provides a direct analytical solution.\n",
    "\n",
    "### The OLS Algorithm:\n",
    "1. **Calculate means**: x̄ and ȳ\n",
    "2. **Calculate numerator**: Σ[(x - x̄)(y - ȳ)]\n",
    "3. **Calculate denominator**: Σ[(x - x̄)²]\n",
    "4. **Calculate slope**: m = numerator / denominator\n",
    "5. **Calculate intercept**: c = ȳ - m × x̄\n",
    "\n",
    "### Advantages of OLS:\n",
    "- **Exact solution**: No iteration needed\n",
    "- **Fast computation**: Single calculation\n",
    "- **Guaranteed optimum**: Always finds the global minimum\n",
    "\n",
    "### When to use OLS vs Gradient Descent:\n",
    "- **OLS**: Small datasets, simple linear regression\n",
    "- **Gradient Descent**: Large datasets, complex models, regularization needed"
   ]
  },
  {
   "cell_type": "code",
   "execution_count": 5,
   "id": "5905de04",
   "metadata": {},
   "outputs": [],
   "source": [
    "def linear_regression(data):\n",
    "    x = data[\"x\"]\n",
    "    y = data[\"y\"]\n",
    "    n = len(x)\n",
    "    y_mean = y.mean()\n",
    "    x_mean = x.mean()\n",
    "    numerator = 0\n",
    "    denominator = 0\n",
    "    for i in range(n):\n",
    "        numerator += (x[i] - x_mean) * (y[i] - y_mean)\n",
    "        denominator += (x[i] - x_mean) ** 2\n",
    "    m = numerator / denominator\n",
    "    c = y_mean - m * x_mean\n",
    "    \n",
    "    return m, c"
   ]
  },
  {
   "cell_type": "markdown",
   "id": "a45a3127",
   "metadata": {},
   "source": [
    "## Evaluation Metrics\n",
    "\n",
    "Implement the same evaluation metrics as the gradient descent approach to compare results:\n",
    "\n",
    "### 1. Mean Squared Error (MSE)\n",
    "- Measures average squared prediction error\n",
    "- Formula: MSE = (1/n) × Σ(y_actual - y_predicted)²\n",
    "\n",
    "### 2. Mean Absolute Error (MAE)\n",
    "- Measures average absolute prediction error\n",
    "- Formula: MAE = (1/n) × Σ|y_actual - y_predicted|\n",
    "\n",
    "### 3. R-squared (R²)\n",
    "- Measures proportion of variance explained by the model\n",
    "- Formula: R² = 1 - (SS_res / SS_tot)"
   ]
  },
  {
   "cell_type": "code",
   "execution_count": 6,
   "id": "49822cd7",
   "metadata": {},
   "outputs": [],
   "source": [
    "def MSE(a,c, data):\n",
    "    total_loss = 0\n",
    "    for i in range(len(data)):\n",
    "        x = data.iloc[i]['x']\n",
    "        y = data.iloc[i]['y']\n",
    "        predicted_y = a * x  + c\n",
    "        total_loss += (predicted_y - y) ** 2\n",
    "    return total_loss / len(data)"
   ]
  },
  {
   "cell_type": "code",
   "execution_count": 7,
   "id": "dd60a9d4",
   "metadata": {},
   "outputs": [],
   "source": [
    "def r_squared(m, c, data):\n",
    "    y_mean = data['y'].mean()\n",
    "    ss_tot = 0\n",
    "    for i in range(len(data)):\n",
    "        y_actual = data.iloc[i]['y']\n",
    "        ss_tot += (y_actual - y_mean) ** 2\n",
    "    ss_res = 0\n",
    "    for i in range(len(data)):\n",
    "        x = data.iloc[i]['x']\n",
    "        y_actual = data.iloc[i]['y']\n",
    "        y_predicted = m * x + c\n",
    "        ss_res += (y_actual - y_predicted) ** 2\n",
    "    r2 = 1 - (ss_res / ss_tot)\n",
    "    return r2"
   ]
  },
  {
   "cell_type": "code",
   "execution_count": 8,
   "id": "a92bbbc4",
   "metadata": {},
   "outputs": [],
   "source": [
    "def MAE(m, c, data):\n",
    "    total_loss = 0\n",
    "    for i in range(len(data)):\n",
    "        x = data.iloc[i]['x']\n",
    "        y = data.iloc[i]['y']\n",
    "        predicted_y = m * x + c\n",
    "        total_loss += abs(predicted_y - y)\n",
    "    return total_loss / len(data)"
   ]
  },
  {
   "cell_type": "markdown",
   "id": "cc044c87",
   "metadata": {},
   "source": [
    "## Train the Model\n",
    "\n",
    "Now we'll \"train\" our model using OLS. Unlike gradient descent, this happens instantly with a single function call!"
   ]
  },
  {
   "cell_type": "code",
   "execution_count": 9,
   "id": "2100a9ef",
   "metadata": {},
   "outputs": [],
   "source": [
    "m,c = linear_regression(data)"
   ]
  },
  {
   "cell_type": "markdown",
   "id": "a7dbb9eb",
   "metadata": {},
   "source": [
    "## Visualize Results\n",
    "\n",
    "Let's plot the data points and the regression line found using OLS:"
   ]
  },
  {
   "cell_type": "code",
   "execution_count": 10,
   "id": "51882697",
   "metadata": {},
   "outputs": [
    {
     "data": {
      "image/png": "[encoded data removed]",
      "text/plain": [
       "<Figure size 640x480 with 1 Axes>"
      ]
     },
     "metadata": {},
     "output_type": "display_data"
    }
   ],
   "source": [
    "plt.scatter(data[\"x\"], data[\"y\"], color='blue', label='Data Points')\n",
    "plt.plot(data[\"x\"], m * data[\"x\"] + c, color='red', label='Regression Line')\n",
    "plt.xlabel('Hours')\n",
    "plt.ylabel('Scores')\n",
    "plt.title('Linear Regression')\n",
    "plt.legend();"
   ]
  },
  {
   "cell_type": "markdown",
   "id": "8e1be0ef",
   "metadata": {},
   "source": [
    "## Model Evaluation & Comparison\n",
    "\n",
    "Let's evaluate our OLS model and see how it compares to the gradient descent approach:\n",
    "\n",
    "### Expected Results:\n",
    "- **Same final parameters**: OLS and gradient descent should converge to the same solution\n",
    "- **Instant computation**: OLS gets the answer immediately\n",
    "- **Identical performance**: Both methods find the optimal solution\n",
    "\n",
    "### Key Differences:\n",
    "| Method | Speed | Scalability | Use Case |\n",
    "|--------|--------|-------------|----------|\n",
    "| **OLS** | Instant | Small datasets | Simple linear regression |\n",
    "| **Gradient Descent** | Iterative | Large datasets | Complex models, regularization |"
   ]
  },
  {
   "cell_type": "code",
   "execution_count": 11,
   "id": "fd403d74",
   "metadata": {},
   "outputs": [
    {
     "name": "stdout",
     "output_type": "stream",
     "text": [
      "Final parameters: m = 9.775803, c = 2.483673\n",
      "Final model equation: y = 9.775803 × x + 2.483673\n",
      "\n",
      "Model Performance Metrics:\n",
      "Mean Squared Error (MSE): 28.88\n",
      "Root Mean Squared Error (RMSE): 5.37\n",
      "Mean Absolute Error (MAE): 4.97\n",
      "R-squared (R²): 0.9529\n"
     ]
    }
   ],
   "source": [
    "print(f'Final parameters: m = {m:.6f}, c = {c:.6f}')\n",
    "print(f'Final model equation: y = {m:.6f} × x + {c:.6f}')\n",
    "print()\n",
    "mse = MSE(m, c, data)\n",
    "rmse = mse ** 0.5\n",
    "mae = MAE(m, c, data)\n",
    "r2 = r_squared(m, c, data)\n",
    "print('Model Performance Metrics:')\n",
    "print(f'Mean Squared Error (MSE): {mse:.2f}')\n",
    "print(f'Root Mean Squared Error (RMSE): {rmse:.2f}')\n",
    "print(f'Mean Absolute Error (MAE): {mae:.2f}')\n",
    "print(f'R-squared (R²): {r2:.4f}')"
   ]
  }
 ],
 "metadata": {
  "kernelspec": {
   "display_name": "Python 3",
   "language": "python",
   "name": "python3"
  },
  "language_info": {
   "codemirror_mode": {
    "name": "ipython",
    "version": 3
   },
   "file_extension": ".py",
   "mimetype": "text/x-python",
   "name": "python",
   "nbconvert_exporter": "python",
   "pygments_lexer": "ipython3",
   "version": "3.11.0"
  }
 },
 "nbformat": 4,
 "nbformat_minor": 5
}
